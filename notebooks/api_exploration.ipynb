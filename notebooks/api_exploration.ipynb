{
 "cells": [
  {
   "cell_type": "code",
   "execution_count": 2,
   "id": "14097205",
   "metadata": {},
   "outputs": [],
   "source": [
    "import json\n",
    "\n",
    "from openaq import OpenAQ"
   ]
  },
  {
   "cell_type": "code",
   "execution_count": 3,
   "id": "e5e0ca1b",
   "metadata": {},
   "outputs": [],
   "source": [
    "with open(\"../secrets.json\") as f:\n",
    "    secrets = json.load(f)\n",
    "    f.close()\n",
    "\n",
    "openaq_key = secrets[\"openaq-api-key\"]"
   ]
  },
  {
   "cell_type": "code",
   "execution_count": 4,
   "id": "c7d9de24",
   "metadata": {},
   "outputs": [
    {
     "data": {
      "text/plain": [
       "<openaq._sync.client.OpenAQ at 0x73301becb950>"
      ]
     },
     "execution_count": 4,
     "metadata": {},
     "output_type": "execute_result"
    }
   ],
   "source": [
    "client = OpenAQ(api_key= openaq_key)\n",
    "\n",
    "client"
   ]
  },
  {
   "cell_type": "code",
   "execution_count": 5,
   "id": "a1df42d1",
   "metadata": {},
   "outputs": [
    {
     "data": {
      "text/plain": [
       "Meta(name='openaq-api', website='/', page=1, limit=1000, found=69)"
      ]
     },
     "execution_count": 5,
     "metadata": {},
     "output_type": "execute_result"
    }
   ],
   "source": [
    "my_bbox_search_locations = client.locations.list(\n",
    "    bbox =(98.324289,-0.384604,121.087961,7.700019),\n",
    "    limit = 1000\n",
    ")\n",
    "\n",
    "my_bbox_search_locations.meta"
   ]
  },
  {
   "cell_type": "code",
   "execution_count": 6,
   "id": "a2ee91ae",
   "metadata": {},
   "outputs": [
    {
     "data": {
      "text/plain": [
       "{'id': 7009,\n",
       " 'name': 'Bang Nak, Mueang',\n",
       " 'locality': None,\n",
       " 'timezone': 'Asia/Bangkok',\n",
       " 'country': CountryBase(id=111, code='TH', name='Thailand'),\n",
       " 'owner': OwnerBase(id=4, name='Unknown Governmental Organization'),\n",
       " 'provider': ProviderBase(id=281, name='Thailand'),\n",
       " 'is_mobile': False,\n",
       " 'is_monitor': True,\n",
       " 'instruments': [InstrumentBase(id=2, name='Government Monitor')],\n",
       " 'sensors': [SensorBase(id=22733, name='co ppm', parameter=ParameterBase(id=8, name='co', units='ppm', display_name='CO')),\n",
       "  SensorBase(id=22732, name='no2 ppm', parameter=ParameterBase(id=7, name='no2', units='ppm', display_name='NO₂')),\n",
       "  SensorBase(id=22785, name='o3 ppm', parameter=ParameterBase(id=10, name='o3', units='ppm', display_name='O₃')),\n",
       "  SensorBase(id=22786, name='pm10 µg/m³', parameter=ParameterBase(id=1, name='pm10', units='µg/m³', display_name='PM10')),\n",
       "  SensorBase(id=20315, name='so2 ppm', parameter=ParameterBase(id=9, name='so2', units='ppm', display_name='SO₂'))],\n",
       " 'coordinates': Coordinates(latitude=6.427698, longitude=101.823568),\n",
       " 'bounds': [101.823568, 6.427698, 101.823568, 6.427698],\n",
       " 'distance': None,\n",
       " 'datetime_first': Datetime(utc='2016-01-30T01:00:00Z', local='2016-01-30T08:00:00+07:00'),\n",
       " 'datetime_last': Datetime(utc='2020-09-23T04:00:00Z', local='2020-09-23T11:00:00+07:00')}"
      ]
     },
     "execution_count": 6,
     "metadata": {},
     "output_type": "execute_result"
    }
   ],
   "source": [
    "my_bbox_search_locations.results[2].__dict__"
   ]
  },
  {
   "cell_type": "code",
   "execution_count": 19,
   "id": "d67bcaae",
   "metadata": {},
   "outputs": [
    {
     "data": {
      "text/plain": [
       "{370218: (('Kuala Lumpur', 'Malaysia'),),\n",
       " 1174411: (('Ban Padang Community School', 'Malaysia'),),\n",
       " 1730792: (('CEASTech, UniMAP', 'Malaysia'),),\n",
       " 1817295: (('Setia Alam', 'Malaysia'),),\n",
       " 3331918: (('Taman Tun Dr. Ismail', 'Malaysia'),),\n",
       " 3400978: (('Setia Eco Park', 'Malaysia'),),\n",
       " 3720347: (('Tambulaung', 'Malaysia'),),\n",
       " 4708034: (('Indera Mahkota 8, Pahang', 'Malaysia'),),\n",
       " 4708035: (('Bandar Pekan, Pekan, Pahang', 'Malaysia'),)}"
      ]
     },
     "execution_count": 19,
     "metadata": {},
     "output_type": "execute_result"
    }
   ],
   "source": [
    "locations_info = {}\n",
    "excluded_countries = {\"Singapore\", \"Indonesia\", \"Thailand\"}\n",
    "\n",
    "for location in my_bbox_search_locations.results:\n",
    "    if location.country.name not in excluded_countries:\n",
    "        locations_info[location.id] = (location.name, location.country.name),\n",
    "\n",
    "locations_info"
   ]
  },
  {
   "cell_type": "code",
   "execution_count": 16,
   "id": "0ebc44ba",
   "metadata": {},
   "outputs": [
    {
     "data": {
      "text/plain": [
       "9"
      ]
     },
     "execution_count": 16,
     "metadata": {},
     "output_type": "execute_result"
    }
   ],
   "source": [
    "len(locations_info)"
   ]
  },
  {
   "cell_type": "code",
   "execution_count": 17,
   "id": "aadf829f",
   "metadata": {},
   "outputs": [],
   "source": [
    "with open(\"../locations.json\", \"w\", encoding = \"utf-8\") as f:\n",
    "    json.dump(locations_info, f, ensure_ascii= False, indent = 4)\n",
    "    f.close()\n"
   ]
  }
 ],
 "metadata": {
  "kernelspec": {
   "display_name": "Python 3",
   "language": "python",
   "name": "python3"
  },
  "language_info": {
   "codemirror_mode": {
    "name": "ipython",
    "version": 3
   },
   "file_extension": ".py",
   "mimetype": "text/x-python",
   "name": "python",
   "nbconvert_exporter": "python",
   "pygments_lexer": "ipython3",
   "version": "3.12.1"
  }
 },
 "nbformat": 4,
 "nbformat_minor": 5
}
