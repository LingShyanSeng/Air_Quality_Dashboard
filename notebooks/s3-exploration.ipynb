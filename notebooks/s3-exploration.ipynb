{
 "cells": [
  {
   "cell_type": "markdown",
   "id": "884dfc4f",
   "metadata": {},
   "source": []
  },
  {
   "cell_type": "markdown",
   "id": "9252a08a",
   "metadata": {},
   "source": []
  },
  {
   "cell_type": "code",
   "execution_count": 1,
   "id": "4416224b",
   "metadata": {},
   "outputs": [],
   "source": [
    "import duckdb as ddb"
   ]
  },
  {
   "cell_type": "code",
   "execution_count": 2,
   "id": "c6a053f4",
   "metadata": {},
   "outputs": [],
   "source": [
    "ddb.sql(\"INSTALL httpfs; LOAD httpfs\")"
   ]
  },
  {
   "cell_type": "code",
   "execution_count": 3,
   "id": "cb06089f",
   "metadata": {},
   "outputs": [],
   "source": [
    "con = ddb.connect(\"../air_quality.db\")"
   ]
  },
  {
   "cell_type": "code",
   "execution_count": 4,
   "id": "58b3afcc",
   "metadata": {},
   "outputs": [
    {
     "data": {
      "text/plain": [
       "<duckdb.duckdb.DuckDBPyConnection at 0x7a285e640570>"
      ]
     },
     "execution_count": 4,
     "metadata": {},
     "output_type": "execute_result"
    }
   ],
   "source": [
    "con.execute(\"CREATE schema IF NOT EXISTS raw\")"
   ]
  },
  {
   "cell_type": "code",
   "execution_count": 5,
   "id": "b1a13b91",
   "metadata": {},
   "outputs": [],
   "source": [
    "con.sql(\"\"\"\n",
    "    SET s3_access_key_id = '';\n",
    "    SET s3_secret_access_key = '';\n",
    "    SET s3_region = '';\n",
    "\"\"\")"
   ]
  },
  {
   "cell_type": "code",
   "execution_count": 6,
   "id": "332807b9",
   "metadata": {},
   "outputs": [
    {
     "data": {
      "text/plain": [
       "<duckdb.duckdb.DuckDBPyConnection at 0x7a285e640570>"
      ]
     },
     "execution_count": 6,
     "metadata": {},
     "output_type": "execute_result"
    }
   ],
   "source": [
    "con.execute(\"\"\"\n",
    "    CREATE TABLE IF NOT EXISTS raw.air_quality_data (\n",
    "        location_id BIGINT,\n",
    "        sensors_id BIGINT,\n",
    "        \"location\" VARCHAR,\n",
    "        \"datetime\" TIMESTAMP,\n",
    "        lat DOUBLE,\n",
    "        lon DOUBLE,\n",
    "        \"parameter\" VARCHAR,\n",
    "        units VARCHAR,\n",
    "        \"value\" DOUBLE,\n",
    "        \"month\" VARCHAR,\n",
    "        \"year\" BIGINT,\n",
    "        ingestion_datetime TIMESTAMP\n",
    "    );\n",
    "    \n",
    "\"\"\")"
   ]
  },
  {
   "cell_type": "code",
   "execution_count": 7,
   "id": "5f90650e",
   "metadata": {},
   "outputs": [
    {
     "data": {
      "application/vnd.jupyter.widget-view+json": {
       "model_id": "06393432c46441a982f13b5947ddf59f",
       "version_major": 2,
       "version_minor": 0
      },
      "text/plain": [
       "FloatProgress(value=0.0, layout=Layout(width='auto'), style=ProgressStyle(bar_color='black'))"
      ]
     },
     "metadata": {},
     "output_type": "display_data"
    },
    {
     "data": {
      "text/plain": [
       "<duckdb.duckdb.DuckDBPyConnection at 0x7a285e640570>"
      ]
     },
     "execution_count": 7,
     "metadata": {},
     "output_type": "execute_result"
    }
   ],
   "source": [
    "con.execute(\"\"\"\n",
    "INSERT INTO raw.air_quality_data\n",
    "SELECT \n",
    "    location_id, \n",
    "    sensors_id, \n",
    "    \"location\", \n",
    "    \"datetime\", \n",
    "    lat, \n",
    "    lon, \n",
    "    \"parameter\", \n",
    "    units, \n",
    "    \"value\",\n",
    "    \"month\", \n",
    "    \"year\",\n",
    "    current_timestamp AS ingestion_datetime\n",
    "FROM read_csv('s3://openaq-data-archive/records/csv.gz/locationid=3331918/year=2025/month=06/*.csv.gz');\n",
    "\"\"\")"
   ]
  },
  {
   "cell_type": "code",
   "execution_count": 8,
   "id": "96242e25",
   "metadata": {},
   "outputs": [],
   "source": [
    "con.close()"
   ]
  }
 ],
 "metadata": {
  "kernelspec": {
   "display_name": "Python 3",
   "language": "python",
   "name": "python3"
  },
  "language_info": {
   "codemirror_mode": {
    "name": "ipython",
    "version": 3
   },
   "file_extension": ".py",
   "mimetype": "text/x-python",
   "name": "python",
   "nbconvert_exporter": "python",
   "pygments_lexer": "ipython3",
   "version": "3.12.1"
  }
 },
 "nbformat": 4,
 "nbformat_minor": 5
}
